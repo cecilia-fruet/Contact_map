{
 "cells": [
  {
   "cell_type": "markdown",
   "id": "satisfactory-stanley",
   "metadata": {},
   "source": [
    "# Improving performance"
   ]
  },
  {
   "cell_type": "code",
   "execution_count": 1,
   "id": "rural-wings",
   "metadata": {},
   "outputs": [],
   "source": [
    "%matplotlib inline\n",
    "# dask and distributed are extra installs\n",
    "from dask.distributed import Client, LocalCluster\n",
    "import matplotlib.pyplot as plt\n",
    "import mdtraj as md\n",
    "traj = md.load(\"5550217/kras.xtc\", top=\"5550217/kras.pdb\")\n",
    "topology = traj.topology"
   ]
  },
  {
   "cell_type": "markdown",
   "id": "boxed-fiction",
   "metadata": {},
   "source": [
    "Much of the core computational effort in Contact Map Explorer is performed by MDTraj, which uses OpenMP during the nearest-neighbors calculation. This already provides excellent performance for a bottleneck in the contact map creation process. However, Contact Map Explorer also has a few other tricks to further enhance performance."
   ]
  },
  {
   "cell_type": "markdown",
   "id": "assigned-cause",
   "metadata": {},
   "source": [
    "## Dask\n",
    "\n",
    "For multi-frame contact maps and contact trajectories, Contact Map Explorer can use Dask to parallelize across frames. Note that Dask is not required to install Contact Map Explorer, so you must install Dask separately to benefit from it.\n",
    "\n",
    "When using Dask, a few things are different:\n",
    "\n",
    "1. You need to provide a `distributed.Client` to the `DaskContactFrequency` or `DaskContactTrajectory`.\n",
    "2. You need to provide the filename (and any other arguments needed by MDTraj, instead of the trajectory itself.\n",
    "\n",
    "Dask might not give any performance boost on a single machine, but can be very useful if parallelizing across multiple machines. Because this directly takes a `Client`, it is easy to interface this with tools like [dask-jobqueue](https://jobqueue.dask.org/en/latest/)."
   ]
  },
  {
   "cell_type": "code",
   "execution_count": 2,
   "id": "southeast-cement",
   "metadata": {},
   "outputs": [
    {
     "data": {
      "text/html": [
       "<table style=\"border: 2px solid white;\">\n",
       "<tr>\n",
       "<td style=\"vertical-align: top; border: 0px solid white\">\n",
       "<h3 style=\"text-align: left;\">Client</h3>\n",
       "<ul style=\"text-align: left; list-style: none; margin: 0; padding: 0;\">\n",
       "  <li><b>Scheduler: </b>tcp://127.0.0.1:39791</li>\n",
       "  <li><b>Dashboard: </b><a href='http://127.0.0.1:8787/status' target='_blank'>http://127.0.0.1:8787/status</a></li>\n",
       "</ul>\n",
       "</td>\n",
       "<td style=\"vertical-align: top; border: 0px solid white\">\n",
       "<h3 style=\"text-align: left;\">Cluster</h3>\n",
       "<ul style=\"text-align: left; list-style:none; margin: 0; padding: 0;\">\n",
       "  <li><b>Workers: </b>4</li>\n",
       "  <li><b>Cores: </b>12</li>\n",
       "  <li><b>Memory: </b>16.39 GB</li>\n",
       "</ul>\n",
       "</td>\n",
       "</tr>\n",
       "</table>"
      ],
      "text/plain": [
       "<Client: 'tcp://127.0.0.1:39791' processes=4 threads=12, memory=16.39 GB>"
      ]
     },
     "execution_count": 2,
     "metadata": {},
     "output_type": "execute_result"
    }
   ],
   "source": [
    "from contact_map import DaskContactFrequency, DaskContactTrajectory\n",
    "from distributed import Client\n",
    "client = Client()\n",
    "client"
   ]
  },
  {
   "cell_type": "code",
   "execution_count": 3,
   "id": "practical-burns",
   "metadata": {},
   "outputs": [
    {
     "name": "stdout",
     "output_type": "stream",
     "text": [
      "CPU times: user 281 ms, sys: 36.7 ms, total: 317 ms\n",
      "Wall time: 3.82 s\n"
     ]
    }
   ],
   "source": [
    "%%time\n",
    "freq = DaskContactFrequency(\n",
    "    client=client,\n",
    "    filename=\"5550217/kras.xtc\",\n",
    "    top=\"5550217/kras.pdb\"\n",
    ")\n",
    "# top must be given as keyword (passed along to mdtraj.load)"
   ]
  },
  {
   "cell_type": "code",
   "execution_count": 4,
   "id": "binding-planner",
   "metadata": {},
   "outputs": [
    {
     "data": {
      "text/plain": [
       "101"
      ]
     },
     "execution_count": 4,
     "metadata": {},
     "output_type": "execute_result"
    }
   ],
   "source": [
    "# did it add up to give us the right number of frames?\n",
    "freq.n_frames"
   ]
  },
  {
   "cell_type": "code",
   "execution_count": 5,
   "id": "daily-candy",
   "metadata": {},
   "outputs": [
    {
     "data": {
      "image/png": "[encoded data removed]",
      "text/plain": [
       "<Figure size 432x288 with 2 Axes>"
      ]
     },
     "metadata": {
      "needs_background": "light"
     },
     "output_type": "display_data"
    }
   ],
   "source": [
    "# do we get a familiar-looking residue map?\n",
    "fig, ax = freq.residue_contacts.plot()"
   ]
  },
  {
   "cell_type": "markdown",
   "id": "minus-delivery",
   "metadata": {},
   "source": [
    "The same can be done for a `DaskContactTrajectory`. Here, we use the data from and compare to `contact_trajectory.ipynb`"
   ]
  },
  {
   "cell_type": "code",
   "execution_count": 6,
   "id": "flying-aquatic",
   "metadata": {},
   "outputs": [],
   "source": [
    "traj_2 = md.load(\"data/gsk3b_example.h5\")\n",
    "\n",
    "topology_2 = traj_2.topology\n",
    "yyg = topology_2.select('resname YYG and element != \"H\"')\n",
    "protein = topology_2.select('protein and element != \"H\"')"
   ]
  },
  {
   "cell_type": "code",
   "execution_count": 7,
   "id": "received-switzerland",
   "metadata": {},
   "outputs": [
    {
     "name": "stdout",
     "output_type": "stream",
     "text": [
      "CPU times: user 380 ms, sys: 10.7 ms, total: 391 ms\n",
      "Wall time: 1.51 s\n"
     ]
    }
   ],
   "source": [
    "%%time\n",
    "dctraj = DaskContactTrajectory(\n",
    "    client=client,\n",
    "    query=yyg,\n",
    "    haystack=protein,\n",
    "    filename=\"data/gsk3b_example.h5\",\n",
    ")"
   ]
  },
  {
   "cell_type": "code",
   "execution_count": 8,
   "id": "guilty-taylor",
   "metadata": {},
   "outputs": [
    {
     "data": {
      "text/plain": [
       "100"
      ]
     },
     "execution_count": 8,
     "metadata": {},
     "output_type": "execute_result"
    }
   ],
   "source": [
    "# did it add up to give us the right number of frames?\n",
    "len(dctraj)"
   ]
  },
  {
   "cell_type": "code",
   "execution_count": 9,
   "id": "novel-advance",
   "metadata": {},
   "outputs": [
    {
     "data": {
      "image/png": "[encoded data removed]",
      "text/plain": [
       "<Figure size 864x720 with 12 Axes>"
      ]
     },
     "metadata": {
      "needs_background": "light"
     },
     "output_type": "display_data"
    }
   ],
   "source": [
    "# do we get a familiar-looking residue map for rolling averages?\n",
    "rolling_frequencies = dctraj.rolling_frequency(window_size=30, step=14)\n",
    "rolling_frequencies\n",
    "\n",
    "fig, axs = plt.subplots(3, 2, figsize=(12, 10))\n",
    "for ax, freq in zip(axs.flatten(), rolling_frequencies):\n",
    "    freq.residue_contacts.plot_axes(ax=ax)\n",
    "    ax.set_xlim(*freq.query_residue_range);"
   ]
  },
  {
   "cell_type": "markdown",
   "id": "banner-project",
   "metadata": {},
   "source": [
    "## \"Atom slicing\"\n",
    "\n",
    "One of the internal tricks to improve performance is that we take the MDTraj trajectory that has been provided, and shrink it down to only the atoms that are included in the `query` and `haystack`. We refer to this as \"atom slicing\" (following terminology from MDTraj, although for performance reasons we actually implement it internally).\n",
    "\n",
    "In most cases, you will want to atom slice. However, there are some cases where atom slicing can slow down your analysis -- mainly if the atoms needed for the contact map are *almost* all the atoms in the trajectory. For this, you can turn atom slicing off."
   ]
  },
  {
   "cell_type": "code",
   "execution_count": 10,
   "id": "following-satin",
   "metadata": {},
   "outputs": [],
   "source": [
    "from contact_map import ContactFrequency"
   ]
  },
  {
   "cell_type": "code",
   "execution_count": 11,
   "id": "worst-journalism",
   "metadata": {},
   "outputs": [],
   "source": [
    "# use all the atoms except atom 0\n",
    "used_atoms = list(range(1, topology.n_atoms))"
   ]
  },
  {
   "cell_type": "code",
   "execution_count": 12,
   "id": "special-insurance",
   "metadata": {},
   "outputs": [
    {
     "name": "stdout",
     "output_type": "stream",
     "text": [
      "CPU times: user 314 ms, sys: 3.78 ms, total: 318 ms\n",
      "Wall time: 118 ms\n"
     ]
    }
   ],
   "source": [
    "%%time\n",
    "# with atom slicing\n",
    "frame_contacts = ContactFrequency(traj[0], query=used_atoms,\n",
    "                                  haystack=used_atoms)"
   ]
  },
  {
   "cell_type": "code",
   "execution_count": 13,
   "id": "advised-russian",
   "metadata": {},
   "outputs": [],
   "source": [
    "# disable atom slicing\n",
    "ContactFrequency._class_use_atom_slice = False"
   ]
  },
  {
   "cell_type": "code",
   "execution_count": 14,
   "id": "robust-aviation",
   "metadata": {},
   "outputs": [
    {
     "name": "stdout",
     "output_type": "stream",
     "text": [
      "CPU times: user 461 ms, sys: 20.6 ms, total: 481 ms\n",
      "Wall time: 289 ms\n"
     ]
    }
   ],
   "source": [
    "%%time\n",
    "# without atom slicing\n",
    "frame_contacts = ContactFrequency(traj[0], query=used_atoms,\n",
    "                                  haystack=used_atoms)"
   ]
  },
  {
   "cell_type": "markdown",
   "id": "ready-wallpaper",
   "metadata": {},
   "source": [
    "Note that this example is the worst case: the overhead for atom slicing occurs only once for an entire trajectory. However, if you're generating many single-frame contact maps, this could be relevant to you."
   ]
  }
 ],
 "metadata": {
  "kernelspec": {
   "display_name": "Python 3",
   "language": "python",
   "name": "python3"
  },
  "language_info": {
   "codemirror_mode": {
    "name": "ipython",
    "version": 3
   },
   "file_extension": ".py",
   "mimetype": "text/x-python",
   "name": "python",
   "nbconvert_exporter": "python",
   "pygments_lexer": "ipython3",
   "version": "3.8.8"
  }
 },
 "nbformat": 4,
 "nbformat_minor": 5
}
